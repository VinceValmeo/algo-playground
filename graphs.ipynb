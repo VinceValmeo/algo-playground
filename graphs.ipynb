{
 "cells": [
  {
   "cell_type": "markdown",
   "id": "63a09b94",
   "metadata": {},
   "source": [
    "# BFS -> DFS -> Backtracking"
   ]
  },
  {
   "cell_type": "markdown",
   "id": "20cd8a1e",
   "metadata": {},
   "source": [
    "## BFS"
   ]
  },
  {
   "cell_type": "markdown",
   "id": "529bdbf5",
   "metadata": {},
   "source": [
    "### Tree Traversal"
   ]
  },
  {
   "cell_type": "code",
   "execution_count": 2,
   "id": "055381d4",
   "metadata": {},
   "outputs": [
    {
     "name": "stdout",
     "output_type": "stream",
     "text": [
      "A B C D E "
     ]
    }
   ],
   "source": [
    "def bfs(graph, start):\n",
    "    visited = set()\n",
    "    queue = [start]  # Use list as queue\n",
    "\n",
    "    while queue:\n",
    "        node = queue.pop(0)  # FIFO: pop from front\n",
    "        # print(node)\n",
    "        if node not in visited:\n",
    "            print(node, end=\" \")\n",
    "            visited.add(node)\n",
    "            for neighbor in graph[node]:\n",
    "                if neighbor not in visited:\n",
    "                    queue.append(neighbor)\n",
    "\n",
    "# Example graph\n",
    "graph = {\n",
    "    'A': ['B', 'C'],\n",
    "    'B': ['D'],\n",
    "    'C': ['E'],\n",
    "    'D': [],\n",
    "    'E': []\n",
    "}\n",
    "\n",
    "bfs(graph, 'A')\n",
    "# Output: A B C D E\n"
   ]
  },
  {
   "cell_type": "code",
   "execution_count": 3,
   "id": "e981ebef",
   "metadata": {},
   "outputs": [
    {
     "name": "stdout",
     "output_type": "stream",
     "text": [
      "['B', 'C']\n"
     ]
    }
   ],
   "source": [
    "print(graph['A'])"
   ]
  },
  {
   "cell_type": "code",
   "execution_count": 1,
   "id": "e91a3c0d",
   "metadata": {},
   "outputs": [
    {
     "name": "stdout",
     "output_type": "stream",
     "text": [
      "before pop: [1, 2, 3, 4, 5]\n",
      "popped: 1\n",
      "after pop: [2, 3, 4, 5]\n"
     ]
    }
   ],
   "source": [
    "queue = [1,2,3,4,5]\n",
    "print(f\"before pop: {queue}\")\n",
    "print(f\"popped: {queue.pop(0)}\")\n",
    "print(f\"after pop: {queue}\")"
   ]
  },
  {
   "cell_type": "markdown",
   "id": "75df1dee",
   "metadata": {},
   "source": [
    "### 2D Maze"
   ]
  },
  {
   "cell_type": "code",
   "execution_count": 2,
   "id": "5cf4110c",
   "metadata": {},
   "outputs": [
    {
     "data": {
      "text/plain": [
       "[[1, 1, 0, 1], [0, 1, 0, 1], [1, 1, 1, 1], [0, 0, 0, 1]]"
      ]
     },
     "execution_count": 2,
     "metadata": {},
     "output_type": "execute_result"
    }
   ],
   "source": [
    "maze = [[1, 1, 0, 1],\n",
    "        [0, 1, 0, 1],\n",
    "        [1, 1, 1, 1],\n",
    "        [0, 0, 0, 1]]\n",
    "\n",
    "maze"
   ]
  },
  {
   "cell_type": "code",
   "execution_count": null,
   "id": "2ccd25e0",
   "metadata": {},
   "outputs": [],
   "source": []
  }
 ],
 "metadata": {
  "kernelspec": {
   "display_name": ".venv",
   "language": "python",
   "name": "python3"
  },
  "language_info": {
   "codemirror_mode": {
    "name": "ipython",
    "version": 3
   },
   "file_extension": ".py",
   "mimetype": "text/x-python",
   "name": "python",
   "nbconvert_exporter": "python",
   "pygments_lexer": "ipython3",
   "version": "3.10.12"
  }
 },
 "nbformat": 4,
 "nbformat_minor": 5
}
